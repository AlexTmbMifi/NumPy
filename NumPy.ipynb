{
 "cells": [
  {
   "cell_type": "markdown",
   "metadata": {},
   "source": [
    "$\\textbf{Возможности библиотеки NumPy}$"
   ]
  },
  {
   "cell_type": "markdown",
   "metadata": {},
   "source": [
    "Объявление библиотеки:"
   ]
  },
  {
   "cell_type": "code",
   "execution_count": 2,
   "metadata": {},
   "outputs": [],
   "source": [
    "import numpy as np"
   ]
  },
  {
   "cell_type": "markdown",
   "metadata": {},
   "source": [
    "$\\textbf{Numpy}$ - это библиотека Python, которая предоставляет мощные и универсальные вычисления с массивами, математическими функциями и другими инструментами для различных научных областей."
   ]
  },
  {
   "cell_type": "markdown",
   "metadata": {},
   "source": [
    "$\\textbf{Numpy}$ быстрее и эффективнее, чем обычные списки Python, потому что он хранит массивы в одном непрерывном месте в памяти. Это легко проверить, если создать список и массив большого массива данных."
   ]
  },
  {
   "cell_type": "markdown",
   "metadata": {},
   "source": [
    "Объявим список и массив  $NumPy$, состоящих из $10^5$ нулей:"
   ]
  },
  {
   "cell_type": "code",
   "execution_count": 16,
   "metadata": {},
   "outputs": [],
   "source": [
    "a1 = [0]*100000\n",
    "b1 = np.zeros(100000)"
   ]
  },
  {
   "cell_type": "code",
   "execution_count": 17,
   "metadata": {},
   "outputs": [
    {
     "name": "stdout",
     "output_type": "stream",
     "text": [
      "List duration: 0.0029897689819335938\n",
      "Array duration: 0.0010006427764892578\n"
     ]
    }
   ],
   "source": [
    "import time \n",
    "\n",
    "start = time.time()\n",
    "a1 = [i + 1 for i in a1]\n",
    "stop = time.time()\n",
    "\n",
    "print('List duration:',stop-start)\n",
    "start = time.time()\n",
    "b1 = b1 + 1\n",
    "stop = time.time()\n",
    "print('Array duration:',stop-start)\n",
    "#print(a1)\n",
    "#print(b1)"
   ]
  },
  {
   "cell_type": "markdown",
   "metadata": {},
   "source": [
    "$\\textbf{Ndarray-массив}$"
   ]
  },
  {
   "cell_type": "markdown",
   "metadata": {},
   "source": [
    "Ключевой объект для хранения и манипуляциями данных в Numpy - $\\textbf{многомерный массив (ndarray)}.\\\\$ \n",
    "Свойства данного объекта:\n",
    "* Размерность\n",
    "* Однородность типов\n",
    "* Индексация и срезы\n",
    "* Форма\n",
    "* Векторизованные операции\n"
   ]
  },
  {
   "cell_type": "markdown",
   "metadata": {},
   "source": [
    "$\\textbf{Создание массивов}$"
   ]
  },
  {
   "cell_type": "markdown",
   "metadata": {},
   "source": [
    "Существует полезные функции для создания массивов:\n",
    "* создание массива на основе списка, кортежа и т.д. - $\\textbf{np.array()}$\n",
    "* создание массива нулей фиксированной длины - $\\textbf{np.zeros()}$\n",
    "* создание пустого массива - $\\textbf{np.empty()}$\n",
    "* создание массива единиц - $\\textbf{np.ones()}$\n",
    "* создание массива заполненного конкретным значением - $\\textbf{np.full()}$\n",
    "* создание массива с фиксированным шагом - $\\textbf{np.arange()}$\n",
    "* создание массива с конкретном числом точек в интервале - $\\textbf{np.linspace()}$"
   ]
  },
  {
   "cell_type": "markdown",
   "metadata": {},
   "source": [
    "$\\textbf{np.array()}$"
   ]
  },
  {
   "cell_type": "markdown",
   "metadata": {},
   "source": [
    "dtype - определяем тип данных в массиве, ndmin - задаём мерность массива. Есть и другие параметры, с которыми можно ознакомиться в мануале."
   ]
  },
  {
   "cell_type": "code",
   "execution_count": 11,
   "metadata": {},
   "outputs": [
    {
     "name": "stdout",
     "output_type": "stream",
     "text": [
      "[1. 2. 3.]\n"
     ]
    }
   ],
   "source": [
    "a = np.array([1,2,3], dtype=float,ndmin=1) # dtype - определяем тип данных в массиве, ndmin - задаём мерность массива. Есть другие параметры, с которыми можно ознакомиться, но это часто используемые.\n",
    "print(a)"
   ]
  },
  {
   "cell_type": "code",
   "execution_count": null,
   "metadata": {},
   "outputs": [],
   "source": []
  }
 ],
 "metadata": {
  "kernelspec": {
   "display_name": "Python 3",
   "language": "python",
   "name": "python3"
  },
  "language_info": {
   "codemirror_mode": {
    "name": "ipython",
    "version": 3
   },
   "file_extension": ".py",
   "mimetype": "text/x-python",
   "name": "python",
   "nbconvert_exporter": "python",
   "pygments_lexer": "ipython3",
   "version": "3.10.6"
  }
 },
 "nbformat": 4,
 "nbformat_minor": 2
}
